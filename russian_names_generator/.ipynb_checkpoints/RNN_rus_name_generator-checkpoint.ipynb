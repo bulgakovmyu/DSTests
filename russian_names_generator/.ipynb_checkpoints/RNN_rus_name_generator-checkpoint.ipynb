{
 "cells": [
  {
   "cell_type": "markdown",
   "metadata": {},
   "source": [
    "# Генерация русских фамилий латиницей\n",
    "Рекурентная нейросеть\n",
    "<img src=\"img/rnn.png\" width=480>"
   ]
  },
  {
   "cell_type": "code",
   "execution_count": 1,
   "metadata": {},
   "outputs": [],
   "source": [
    "import os\n",
    "\n",
    "import numpy as np\n",
    "import matplotlib.pyplot as plt\n",
    "import random\n",
    "%matplotlib inline"
   ]
  },
  {
   "cell_type": "markdown",
   "metadata": {},
   "source": [
    "Загружаем данные"
   ]
  },
  {
   "cell_type": "code",
   "execution_count": 2,
   "metadata": {},
   "outputs": [],
   "source": [
    "with open('data/russian_names.txt') as input_file:\n",
    "    names = input_file.read()[:-1].split('\\n')\n",
    "    names = [' ' + line.lower() for line in names]"
   ]
  },
  {
   "cell_type": "code",
   "execution_count": 3,
   "metadata": {},
   "outputs": [
    {
     "data": {
      "text/plain": [
       "[' ababko', ' abaev', ' abagyan', ' abaidulin', ' abaidullin']"
      ]
     },
     "execution_count": 3,
     "metadata": {},
     "output_type": "execute_result"
    }
   ],
   "source": [
    "names[:5]"
   ]
  },
  {
   "cell_type": "markdown",
   "metadata": {},
   "source": [
    "Распределение длин фамилий"
   ]
  },
  {
   "cell_type": "code",
   "execution_count": 4,
   "metadata": {},
   "outputs": [
    {
     "data": {
      "image/png": "[encoded data removed]",
      "text/plain": [
       "<Figure size 432x288 with 1 Axes>"
      ]
     },
     "metadata": {
      "needs_background": "light"
     },
     "output_type": "display_data"
    }
   ],
   "source": [
    "plt.title('Name length')\n",
    "plt.hist(list(map(len, names)), bins=20);"
   ]
  },
  {
   "cell_type": "markdown",
   "metadata": {},
   "source": [
    "Подготовка данных"
   ]
  },
  {
   "cell_type": "code",
   "execution_count": 5,
   "metadata": {},
   "outputs": [
    {
     "name": "stdout",
     "output_type": "stream",
     "text": [
      "30\n"
     ]
    }
   ],
   "source": [
    "#ищем уникальные символы в данных\n",
    "tokens = list(set(''.join(names)))\n",
    "\n",
    "num_tokens = len(tokens)\n",
    "print (num_tokens)"
   ]
  },
  {
   "cell_type": "markdown",
   "metadata": {},
   "source": [
    "Создадим словарь < символ > -> < id >"
   ]
  },
  {
   "cell_type": "code",
   "execution_count": 8,
   "metadata": {},
   "outputs": [
    {
     "name": "stdout",
     "output_type": "stream",
     "text": [
      "{',': 0, 's': 1, '\\xa0': 2, 'o': 3, 'r': 4, ' ': 5, 'в': 6, 'p': 7, 'c': 8, \"'\": 9, 'd': 10, 'z': 11, 'u': 12, 'h': 13, 'm': 14, 'l': 15, 'w': 16, 'n': 17, 'i': 18, 'g': 19, '-': 20, 'j': 21, 't': 22, 'a': 23, 'e': 24, 'v': 25, 'k': 26, 'b': 27, 'f': 28, 'y': 29}\n"
     ]
    }
   ],
   "source": [
    "token_with_id = {token: idx for idx, token in enumerate(tokens)}\n",
    "print(token_with_id)"
   ]
  },
  {
   "cell_type": "code",
   "execution_count": 9,
   "metadata": {},
   "outputs": [
    {
     "name": "stdout",
     "output_type": "stream",
     "text": [
      "dict_keys([',', 's', '\\xa0', 'o', 'r', ' ', 'в', 'p', 'c', \"'\", 'd', 'z', 'u', 'h', 'm', 'l', 'w', 'n', 'i', 'g', '-', 'j', 't', 'a', 'e', 'v', 'k', 'b', 'f', 'y'])\n"
     ]
    }
   ],
   "source": [
    "print(token_with_id.keys())"
   ]
  },
  {
   "cell_type": "markdown",
   "metadata": {},
   "source": [
    "Функция преобразования текста в токены"
   ]
  },
  {
   "cell_type": "code",
   "execution_count": 23,
   "metadata": {},
   "outputs": [
    {
     "name": "stdout",
     "output_type": "stream",
     "text": [
      "Максимальная длина имени:  21\n"
     ]
    }
   ],
   "source": [
    "total_max_len = max([len(i) for i in names])\n",
    "print('Максимальная длина имени: ', total_max_len)\n",
    "def to_tokens(name_with_id, token_with_id,  max_len=total_max_len, dtype='int32'):\n",
    "    name = [token_with_id[i] for i in name_with_id]\n",
    "    if (len(name) <= max_len):\n",
    "        name.extend([token_with_id['\\xa0']]*(max_len - len(name)))\n",
    "    else :\n",
    "        name = name[:max_len]\n",
    "    return name"
   ]
  },
  {
   "cell_type": "code",
   "execution_count": 26,
   "metadata": {},
   "outputs": [
    {
     "data": {
      "text/plain": [
       "[5, 23, 27, 23, 27, 26, 3, 2, 2, 2, 2, 2, 2, 2, 2, 2, 2, 2, 2, 2, 2]"
      ]
     },
     "execution_count": 26,
     "metadata": {},
     "output_type": "execute_result"
    }
   ],
   "source": [
    "to_tokens(names[0],token_with_id)"
   ]
  },
  {
   "cell_type": "code",
   "execution_count": 27,
   "metadata": {},
   "outputs": [],
   "source": [
    "# [to_tokens(i,token_with_id,max_len) for i in names][:10]"
   ]
  },
  {
   "cell_type": "code",
   "execution_count": 28,
   "metadata": {},
   "outputs": [],
   "source": [
    "import torch, torch.nn as nn\n",
    "import torch.nn.functional as F\n",
    "from torch.autograd import Variable"
   ]
  },
  {
   "cell_type": "markdown",
   "metadata": {},
   "source": [
    "Определяем размер батча"
   ]
  },
  {
   "cell_type": "code",
   "execution_count": 29,
   "metadata": {},
   "outputs": [],
   "source": [
    "batch_size = 64"
   ]
  },
  {
   "cell_type": "markdown",
   "metadata": {},
   "source": [
    "## Создаем свою реализацию нейронной сети"
   ]
  },
  {
   "cell_type": "markdown",
   "metadata": {},
   "source": [
    "Создаем класс со структурой рекурентной сети"
   ]
  },
  {
   "cell_type": "code",
   "execution_count": 30,
   "metadata": {},
   "outputs": [],
   "source": [
    "class CharRNNCell(nn.Module):\n",
    "#     Реализация простейшей rnn в применении к модулю pytorch\n",
    "    def __init__(self, num_tokens, embedding_size=16, rnn_num_units=64):\n",
    "        super(self.__class__, self).__init__()\n",
    "        self.num_units = rnn_num_units       \n",
    "        self.embedding = nn.Embedding(num_tokens, embedding_size)\n",
    "        self.rnn_update = nn.Linear(embedding_size + rnn_num_units, rnn_num_units)\n",
    "        self.rnn_to_logits = nn.Linear(rnn_num_units, num_tokens)\n",
    "        self.activation = torch.tanh\n",
    "        \n",
    "        \n",
    "    def forward(self, x, h_prev):\n",
    "#       Шаг прямого прохода сети     \n",
    "#       :param x: тензор, состоящий из токенов i-го символа всего батча, тип данных - int64. [batch_size]\n",
    "#       :param h_prev: тензор, содержит значения скрытого состояния предыдущей итерации.[batch, rnn_num_units] of float32\n",
    "        x_emb = self.embedding(x)\n",
    "\n",
    "        x_and_h = torch.cat([x_emb, h_prev], dim=1) \n",
    "\n",
    "        h_next = self.rnn_update(x_and_h)\n",
    "\n",
    "        h_next = self.activation(h_next)\n",
    "\n",
    "        logits = self.rnn_to_logits(h_next)\n",
    "        \n",
    "        return h_next, F.log_softmax(logits, -1)\n",
    "        \n",
    "    def initial_state(self, batch_size):\n",
    "#       инициализируем начальное состояние вектора h\n",
    "        return Variable(torch.zeros(batch_size, self.num_units))"
   ]
  },
  {
   "cell_type": "markdown",
   "metadata": {},
   "source": [
    "Инициализируем нейросеть"
   ]
  },
  {
   "cell_type": "code",
   "execution_count": 45,
   "metadata": {},
   "outputs": [],
   "source": [
    "rnn = CharRNNCell(num_tokens)"
   ]
  },
  {
   "cell_type": "markdown",
   "metadata": {},
   "source": [
    "Определяем функию прохода по одному батчу"
   ]
  },
  {
   "cell_type": "code",
   "execution_count": 46,
   "metadata": {},
   "outputs": [],
   "source": [
    "def loop(rnn, batch_with_id, batch_max_len):\n",
    "    batch_size = len(batch_with_id)\n",
    "    \n",
    "    hid_state = rnn.initial_state(batch_size)\n",
    "    probabilities = []\n",
    "    \n",
    "    for i_sym in range(batch_max_len):\n",
    "        x_i = torch.tensor(batch_with_id)[:,i_sym]\n",
    "        \n",
    "        hid_state, log_probs = rnn(x_i, hid_state)        \n",
    "        probabilities.append(log_probs)\n",
    "    \n",
    "    return torch.stack(probabilities).permute(1,0,2)"
   ]
  },
  {
   "cell_type": "markdown",
   "metadata": {},
   "source": [
    "Инициализируем оптимизатор и обучаем модель"
   ]
  },
  {
   "cell_type": "code",
   "execution_count": 47,
   "metadata": {},
   "outputs": [],
   "source": [
    "from IPython.display import clear_output\n",
    "\n",
    "opt = torch.optim.Adam(rnn.parameters())\n",
    "res = []"
   ]
  },
  {
   "cell_type": "code",
   "execution_count": 48,
   "metadata": {},
   "outputs": [
    {
     "data": {
      "image/png": "[encoded data removed]",
      "text/plain": [
       "<Figure size 432x288 with 1 Axes>"
      ]
     },
     "metadata": {
      "needs_background": "light"
     },
     "output_type": "display_data"
    },
    {
     "name": "stderr",
     "output_type": "stream",
     "text": [
      "100%|██████████| 10000/10000 [05:14<00:00, 31.76it/s]\n"
     ]
    }
   ],
   "source": [
    "from tqdm import tqdm\n",
    "for epoch in tqdm(range(10000)):\n",
    "    random.shuffle(names)\n",
    "    batch = names[:batch_size]\n",
    "    \n",
    "    batch_max_len = max([len(i) for i in batch])\n",
    "    batch_with_id = [to_tokens(i,token_with_id,batch_max_len) for i in batch]\n",
    "    \n",
    "    output = loop(rnn, batch_with_id, batch_max_len)[:,:-1,:]\n",
    "    actual = torch.tensor(batch_with_id)[:,1:]\n",
    "    \n",
    "    loss = -torch.mean(torch.gather(output, dim=2, index=actual[:,:,None]))\n",
    "    \n",
    "    loss.backward()\n",
    "    opt.step()\n",
    "    opt.zero_grad()\n",
    "    \n",
    "    res.append(loss.item())\n",
    "    if ((epoch + 1) % 100 == 0):\n",
    "        clear_output(True)\n",
    "        plt.plot(res,label='loss')\n",
    "        plt.legend()\n",
    "        plt.show()\n",
    "    "
   ]
  },
  {
   "cell_type": "markdown",
   "metadata": {},
   "source": [
    "Определяем функцию генерации текста"
   ]
  },
  {
   "cell_type": "code",
   "execution_count": 129,
   "metadata": {},
   "outputs": [],
   "source": [
    "def generate(rnn, start = ' ', max_len=total_max_len, temperature = 1.0):\n",
    "    \n",
    "    x = torch.tensor(to_tokens(start,token_with_id,len(start)))[None,:]\n",
    "\n",
    "    hid_state = rnn.initial_state(1)\n",
    "\n",
    "    for ind in range(x.shape[1]-1):\n",
    "        hid_state, _ = rnn(x[:,ind],hid_state)\n",
    "    \n",
    "    x_ind = x[:,-1]\n",
    "    for ind in range(max_len - x.shape[1]):\n",
    "\n",
    "        hid_state, x_pred = rnn(x_ind,hid_state)\n",
    "        \n",
    "        next_ix = np.random.choice(len(tokens), p=F.softmax(x_pred / temperature, dim=-1)[0].detach().numpy())\n",
    "        x_ind = torch.tensor([next_ix], dtype=torch.int64)\n",
    "\n",
    "        start += tokens[x_ind]\n",
    "        \n",
    "    return start"
   ]
  },
  {
   "cell_type": "markdown",
   "metadata": {},
   "source": [
    "Генерируем новые фамилии, используя нашу модель"
   ]
  },
  {
   "cell_type": "code",
   "execution_count": 130,
   "metadata": {},
   "outputs": [
    {
     "name": "stdout",
     "output_type": "stream",
     "text": [
      " Dyuchenki           \n",
      " Avdyentsev          \n",
      " Vevikovsky          \n",
      " Zhikuvsievsky       \n",
      " Habiroff            \n",
      " Trupak              \n",
      " Lukhatbahonov       \n",
      " Matzitov            \n",
      " Levitlajtsev        \n",
      " Vyaramovsky         \n"
     ]
    }
   ],
   "source": [
    "for i in range(10):\n",
    "    name = generate(rnn,' ',temperature = 1.2)\n",
    "    print(name[:2].upper()+name[2:])"
   ]
  },
  {
   "cell_type": "code",
   "execution_count": 58,
   "metadata": {},
   "outputs": [
    {
     "name": "stdout",
     "output_type": "stream",
     "text": [
      " Bulgai              \n",
      " Bulak               \n",
      " Bulshan             \n",
      " Bulaenchkin         \n",
      " Bulevpa             \n",
      " Bulanovsky          \n",
      " Bulev               \n",
      " Bultiev             \n",
      " Buladamov           \n",
      " Bulcherov           \n"
     ]
    }
   ],
   "source": [
    "for i in range(10):\n",
    "    name = generate(rnn,' bul',temperature = 1.1)\n",
    "    print(name[:2].upper()+name[2:])"
   ]
  },
  {
   "cell_type": "markdown",
   "metadata": {},
   "source": [
    "## Вариант, используя средства pytorch\n",
    "\n",
    "* `nn.RNNCell(emb_size, rnn_num_units)` - шаг RNN. Алгоритм: concat-linear-tanh\n",
    "* `nn.RNN(emb_size, rnn_num_units)` - весь rnn_loop.\n",
    "\n",
    "Кроме того, в PyTorch есть `nn.LSTMCell`, `nn.LSTM`, `nn.GRUCell`, `nn.GRU`, etc. etc."
   ]
  },
  {
   "cell_type": "code",
   "execution_count": 101,
   "metadata": {},
   "outputs": [],
   "source": [
    "class RNNLoop(nn.Module):\n",
    "    def __init__(self, num_tokens, embedding_size=16, rnn_num_units=64):\n",
    "        super(self.__class__, self).__init__()\n",
    "        self.emb = nn.Embedding(num_tokens, embedding_size)\n",
    "        self.rnn = nn.RNN(embedding_size, rnn_num_units, batch_first=True)\n",
    "        self.to_logits = nn.Linear(rnn_num_units, num_tokens)\n",
    "        \n",
    "    def forward(self, x):\n",
    "        x_emb = self.emb(x)\n",
    "        h_out, __ = self.rnn(x_emb)\n",
    "        logits = self.to_logits(h_out)\n",
    "        \n",
    "        return F.log_softmax(logits, dim=-1)\n",
    "        "
   ]
  },
  {
   "cell_type": "code",
   "execution_count": 102,
   "metadata": {},
   "outputs": [],
   "source": [
    "rnn_model = RNNLoop(num_tokens)\n",
    "\n",
    "opt = torch.optim.Adam(rnn_model.parameters())\n",
    "res_2 = []"
   ]
  },
  {
   "cell_type": "code",
   "execution_count": 103,
   "metadata": {},
   "outputs": [
    {
     "data": {
      "image/png": "[encoded data removed]",
      "text/plain": [
       "<Figure size 432x288 with 1 Axes>"
      ]
     },
     "metadata": {
      "needs_background": "light"
     },
     "output_type": "display_data"
    },
    {
     "name": "stderr",
     "output_type": "stream",
     "text": [
      "100%|██████████| 10000/10000 [04:03<00:00, 41.15it/s]\n"
     ]
    }
   ],
   "source": [
    "from tqdm import tqdm\n",
    "\n",
    "for epoch in tqdm(range(10000)):\n",
    "    random.shuffle(names)\n",
    "    batch = names[:batch_size]\n",
    "    \n",
    "    batch_max_len = max([len(i) for i in batch])\n",
    "    batch_with_id = torch.tensor([to_tokens(i,token_with_id,batch_max_len) for i in batch], dtype=torch.int64)\n",
    "    \n",
    "    output = rnn_model(batch_with_id)[:,:-1,:]\n",
    "    actual = batch_with_id[:,1:]\n",
    "        \n",
    "    loss = -torch.mean(torch.gather(output, dim=-1, index=actual[:,:,None]))\n",
    "    \n",
    "    loss.backward()\n",
    "    opt.step()\n",
    "    opt.zero_grad()\n",
    "    \n",
    "    res_2.append(loss.item())\n",
    "    if ((epoch + 1) % 100 == 0):\n",
    "        clear_output(True)\n",
    "        plt.plot(res_2,label='loss')\n",
    "        plt.legend()\n",
    "        plt.show()"
   ]
  },
  {
   "cell_type": "code",
   "execution_count": 147,
   "metadata": {},
   "outputs": [],
   "source": [
    "def generate_new(rnn, start = ' ', max_len=total_max_len, temperature = 1.0):\n",
    "    \n",
    "    for ind in range(max_len):\n",
    "        x = torch.tensor(to_tokens(start,token_with_id,len(start)))[None,:]\n",
    "        x_pred = rnn(x)[0,:,:]\n",
    "#         print(F.softmax(x_pred / temperature, dim=-1))\n",
    "        next_ix = np.random.choice(len(tokens), p=F.softmax(x_pred / temperature, dim=-1)[-1].detach().numpy())\n",
    "        x_ind = torch.tensor([next_ix], dtype=torch.int64)\n",
    "\n",
    "        start += tokens[x_ind]\n",
    "        \n",
    "    return start"
   ]
  },
  {
   "cell_type": "code",
   "execution_count": 170,
   "metadata": {},
   "outputs": [
    {
     "name": "stdout",
     "output_type": "stream",
     "text": [
      " Jakov                \n",
      " Valkensky            \n",
      " Jivovtov             \n",
      " Marturin             \n",
      " Vityar               \n",
      " Elchikov             \n",
      " Bachinyan            \n",
      " Belukhin             \n",
      " Yadokhov             \n",
      " Jaradov              \n"
     ]
    }
   ],
   "source": [
    "for i in range(10):\n",
    "    name = generate_new(rnn_model,' ',temperature = 1.0)\n",
    "    print(name[:2].upper()+name[2:])"
   ]
  }
 ],
 "metadata": {
  "kernelspec": {
   "display_name": "Python 3",
   "language": "python",
   "name": "python3"
  },
  "language_info": {
   "codemirror_mode": {
    "name": "ipython",
    "version": 3
   },
   "file_extension": ".py",
   "mimetype": "text/x-python",
   "name": "python",
   "nbconvert_exporter": "python",
   "pygments_lexer": "ipython3",
   "version": "3.7.7"
  }
 },
 "nbformat": 4,
 "nbformat_minor": 4
}
