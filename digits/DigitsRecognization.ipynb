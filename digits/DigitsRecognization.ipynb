{
 "cells": [
  {
   "cell_type": "code",
   "execution_count": 46,
   "metadata": {},
   "outputs": [],
   "source": [
    "import pandas as pd\n",
    "import numpy as np"
   ]
  },
  {
   "cell_type": "code",
   "execution_count": 47,
   "metadata": {},
   "outputs": [
    {
     "name": "stdout",
     "output_type": "stream",
     "text": [
      "(1797, 64)\n"
     ]
    },
    {
     "data": {
      "text/plain": [
       "<Figure size 432x288 with 0 Axes>"
      ]
     },
     "metadata": {},
     "output_type": "display_data"
    },
    {
     "data": {
      "image/png": "[encoded data removed]",
      "text/plain": [
       "<Figure size 288x288 with 1 Axes>"
      ]
     },
     "metadata": {
      "needs_background": "light"
     },
     "output_type": "display_data"
    }
   ],
   "source": [
    "from sklearn.datasets import load_digits\n",
    "digits = load_digits()\n",
    "print(digits.data.shape)\n",
    "import matplotlib.pyplot as plt\n",
    "plt.gray()\n",
    "plt.matshow(digits.images[0])\n",
    "plt.show()"
   ]
  },
  {
   "cell_type": "code",
   "execution_count": 48,
   "metadata": {},
   "outputs": [
    {
     "data": {
      "text/plain": [
       "array([ 0.        , -0.33501649, -0.04308102,  0.27407152, -0.66447751,\n",
       "       -0.84412939, -0.40972392, -0.12502292, -0.05907756, -0.62400926,\n",
       "        0.4829745 ,  0.75962245, -0.05842586,  1.12772113,  0.87958306,\n",
       "       -0.13043338, -0.04462507,  0.11144272,  0.89588044, -0.86066632,\n",
       "       -1.14964846,  0.51547187,  1.90596347, -0.11422184, -0.03337973,\n",
       "        0.48648928,  0.46988512, -1.49990136, -1.61406277,  0.07639777,\n",
       "        1.54181413, -0.04723238,  0.        ,  0.76465553,  0.05263019,\n",
       "       -1.44763006, -1.73666443,  0.04361588,  1.43955804,  0.        ,\n",
       "       -0.06134367,  0.8105536 ,  0.63011714, -1.12245711, -1.06623158,\n",
       "        0.66096475,  0.81845076, -0.08874162, -0.03543326,  0.74211893,\n",
       "        1.15065212, -0.86867056,  0.11012973,  0.53761116, -0.75743581,\n",
       "       -0.20978513, -0.02359646, -0.29908135,  0.08671869,  0.20829258,\n",
       "       -0.36677122, -1.14664746, -0.5056698 , -0.19600752])"
      ]
     },
     "execution_count": 48,
     "metadata": {},
     "output_type": "execute_result"
    }
   ],
   "source": [
    "from sklearn.preprocessing import StandardScaler\n",
    "X_scale = StandardScaler()\n",
    "X = X_scale.fit_transform(digits.data)\n",
    "X[0,:]"
   ]
  },
  {
   "cell_type": "code",
   "execution_count": 49,
   "metadata": {},
   "outputs": [],
   "source": [
    "from sklearn.model_selection import train_test_split\n",
    "y = digits.target\n",
    "X_train, X_test, y_train, y_test = train_test_split(X, y, test_size=0.2)"
   ]
  },
  {
   "cell_type": "code",
   "execution_count": 50,
   "metadata": {},
   "outputs": [
    {
     "data": {
      "text/plain": [
       "(2, array([0., 0., 1., 0., 0., 0., 0., 0., 0., 0.]))"
      ]
     },
     "execution_count": 50,
     "metadata": {},
     "output_type": "execute_result"
    }
   ],
   "source": [
    "# преобразование ответов в вектора из 10 компонент\n",
    "import numpy as np\n",
    "def convert_y_to_vect(y):\n",
    "    y_vect = np.zeros((len(y), 10))\n",
    "    for i in range(len(y)):\n",
    "        y_vect[i, y[i]] = 1\n",
    "    return y_vect\n",
    "\n",
    "y_train_vect = convert_y_to_vect(y_train)\n",
    "y_test_vect = convert_y_to_vect(y_test)\n",
    "y_train[0], y_train_vect[0]"
   ]
  },
  {
   "cell_type": "code",
   "execution_count": 51,
   "metadata": {},
   "outputs": [],
   "source": [
    "class MyNeuroNet:\n",
    "    \n",
    "    def __init__(self, nn_structure: list, act_funct = 'sygmoid', alpha = 0.25, iter_num = 3000):\n",
    "            self.layers = len(nn_structure)\n",
    "            self.nn_structure = nn_structure\n",
    "            self.act_funct = act_funct\n",
    "            self.alpha = alpha\n",
    "            self.iter_num = iter_num\n",
    "    \n",
    "    def f(self,x):\n",
    "        import numpy as np\n",
    "        if self.act_funct == 'sygmoid':\n",
    "            return 1 / (1 + np.exp(-x))\n",
    "        if self.act_funct == 'tanh':\n",
    "            return (np.exp(x)-np.exp(-x)) / (np.exp(x) + np.exp(-x))\n",
    "    def f_deriv(self,x):\n",
    "        import numpy as np\n",
    "        if self.act_funct == 'sygmoid':\n",
    "            return self.f(x) * (1 - self.f(x))\n",
    "        if self.act_funct == 'tanh':\n",
    "            return 1-(self.f(x))**2\n",
    "\n",
    "    def setup_and_init_weights(self):\n",
    "        import numpy.random as r\n",
    "        self.W = {}\n",
    "        self.b = {}\n",
    "        for l in range(1, len(self.nn_structure)):\n",
    "            self.W[l] = r.random_sample((self.nn_structure[l], self.nn_structure[l-1]))\n",
    "            self.b[l] = r.random_sample((self.nn_structure[l],))\n",
    "        return self.W, self.b\n",
    "    \n",
    "    def init_cum_values(self):\n",
    "        import numpy as np\n",
    "        self.cum_W = {}\n",
    "        self.cum_b = {}\n",
    "        for l in range(1, len(self.nn_structure)):\n",
    "            self.cum_W[l] = np.zeros((self.nn_structure[l], self.nn_structure[l-1]))\n",
    "            self.cum_b[l] = np.zeros((self.nn_structure[l],))\n",
    "        return self.cum_W, self.cum_b\n",
    "    \n",
    "    def outter_delta(self, y, h_out, z_out):\n",
    "        return -(y-h_out) * self.f_deriv(z_out)\n",
    "\n",
    "    def hidden_delta(self, delta_plus_1, w_l, z_l):\n",
    "        return np.dot(delta_plus_1, w_l) * self.f_deriv(z_l)\n",
    "    \n",
    "    def forward_way(self, x, w, b):\n",
    "        import numpy as np\n",
    "        h = {0: x}\n",
    "        z = {}\n",
    "        for i in range(1, len(self.nn_structure)):\n",
    "            if i == 1:\n",
    "                res = x\n",
    "            z[i] = np.dot(res, w[i].transpose()) + b[i].transpose()\n",
    "            res = self.f(np.dot(res, w[i].transpose()) + b[i].transpose())\n",
    "            h[i] = res\n",
    "\n",
    "        return h, z\n",
    "\n",
    "    def back_way(self, y, w, b, h, z):\n",
    "        import numpy as np\n",
    "        for i in range(1, len(self.nn_structure)):\n",
    "                j = len(self.nn_structure)-i\n",
    "                if j == len(self.nn_structure)-1:\n",
    "                    delta = self.outter_delta(y, h[j], z[j])\n",
    "                    self.cum_W[j] = np.dot(delta.transpose(), h[j-1])\n",
    "                    self.cum_b[j] = delta.sum(axis = 0)\n",
    "                else:\n",
    "                    delta = self.hidden_delta(delta, w[j+1], z[j])\n",
    "                    self.cum_W[j] = np.dot(delta.transpose(), h[j-1])\n",
    "                    self.cum_b[j] = delta.sum(axis = 0)\n",
    "                w[j] += -self.alpha * (1.0/len(y) * self.cum_W[j])\n",
    "                b[j] += -self.alpha * (1.0/len(y) * self.cum_b[j])\n",
    "\n",
    "        return w, b\n",
    "    \n",
    "    def predict(self, X):\n",
    "        import numpy as np\n",
    "        m = X.shape[0]\n",
    "        prediction = np.zeros((m,))\n",
    "        for i in range(m):\n",
    "            res = self.forward_way(X[i], self.W, self.b)[0][len(self.nn_structure)-1]\n",
    "            prediction[i] = np.argmax(res)\n",
    "        return prediction\n",
    "   \n",
    "\n",
    "    def train(self, X, y, y_t):\n",
    "        from sklearn.metrics import accuracy_score\n",
    "        import numpy as np\n",
    "        \n",
    "        self.setup_and_init_weights()\n",
    "        avg_cost_func = []\n",
    "        accuracy = []\n",
    "        for i in range(self.iter_num):\n",
    "            self.init_cum_values()\n",
    "            h, z = self.forward_way(X, self.W, self.b)\n",
    "\n",
    "            self.W, self.b  = self.back_way(y, self.W, self.b, h, z)\n",
    "\n",
    "            avg_cost = 1.0/len(y) * np.sqrt(((y - h[len(self.nn_structure)-1])**2).sum(axis=1)).sum()\n",
    "            avg_cost_func.append(avg_cost)\n",
    "\n",
    "        output = self.predict(X)\n",
    "        accuracy = accuracy_score(y_t, output)*100\n",
    "        self.avg_cost_func = avg_cost_func\n",
    "        self.accuracy = accuracy\n",
    "    "
   ]
  },
  {
   "cell_type": "code",
   "execution_count": 67,
   "metadata": {},
   "outputs": [
    {
     "name": "stdout",
     "output_type": "stream",
     "text": [
      "4\n",
      "95.27777777777777\n",
      "99.37369519832986\n"
     ]
    }
   ],
   "source": [
    "from sklearn.metrics import accuracy_score\n",
    "a = MyNeuroNet([64, 10],alpha = 0.25, iter_num = 60000)\n",
    "a.train(X_train, y_train_vect, y_train)\n",
    "a2 = a.avg_cost_func\n",
    "print(2)\n",
    "print(accuracy_score(a.predict(X_test), y_test)*100)\n",
    "print(accuracy_score(a.predict(X_train), y_train)*100)\n",
    "\n",
    "a = MyNeuroNet([64, 30, 10],alpha = 0.25, iter_num = 60000)\n",
    "a.train(X_train, y_train_vect, y_train)\n",
    "a3 = a.avg_cost_func\n",
    "print(3)\n",
    "print(accuracy_score(a.predict(X_test), y_test)*100)\n",
    "print(accuracy_score(a.predict(X_train), y_train)*100)\n",
    "\n",
    "a = MyNeuroNet([64, 50, 15, 10],alpha = 0.25, iter_num = 60000)\n",
    "a.train(X_train, y_train_vect, y_train)\n",
    "a4 = a.avg_cost_func\n",
    "print(4)\n",
    "print(accuracy_score(a.predict(X_test), y_test)*100)\n",
    "print(accuracy_score(a.predict(X_train), y_train)*100)"
   ]
  },
  {
   "cell_type": "code",
   "execution_count": 68,
   "metadata": {},
   "outputs": [
    {
     "data": {
      "image/png": "[encoded data removed]",
      "text/plain": [
       "<Figure size 432x288 with 1 Axes>"
      ]
     },
     "metadata": {
      "needs_background": "light"
     },
     "output_type": "display_data"
    }
   ],
   "source": [
    "plt.plot(a2)\n",
    "plt.plot(a3)\n",
    "plt.plot(a4)\n",
    "plt.ylabel('Средняя J')\n",
    "plt.xlabel('Количество итераций')\n",
    "plt.show()"
   ]
  },
  {
   "cell_type": "code",
   "execution_count": 69,
   "metadata": {},
   "outputs": [
    {
     "name": "stdout",
     "output_type": "stream",
     "text": [
      "3\n",
      "95.55555555555556\n",
      "97.4947807933194\n",
      "3\n",
      "95.27777777777777\n",
      "97.7731384829506\n",
      "3\n",
      "96.94444444444444\n",
      "98.12108559498957\n",
      "3\n",
      "96.11111111111111\n",
      "97.7731384829506\n",
      "3\n",
      "97.22222222222221\n",
      "97.84272790535839\n"
     ]
    }
   ],
   "source": [
    "a = MyNeuroNet([64, 50, 10],alpha = 0.25, iter_num = 10000)\n",
    "a.train(X_train, y_train_vect, y_train)\n",
    "t1 = a.avg_cost_func\n",
    "print(3)\n",
    "print(accuracy_score(a.predict(X_test), y_test)*100)\n",
    "print(accuracy_score(a.predict(X_train), y_train)*100)\n",
    "\n",
    "a = MyNeuroNet([64, 40, 10],alpha = 0.25, iter_num = 10000)\n",
    "a.train(X_train, y_train_vect, y_train)\n",
    "t2 = a.avg_cost_func\n",
    "print(3)\n",
    "print(accuracy_score(a.predict(X_test), y_test)*100)\n",
    "print(accuracy_score(a.predict(X_train), y_train)*100)\n",
    "\n",
    "a = MyNeuroNet([64, 30, 10],alpha = 0.25, iter_num = 10000)\n",
    "a.train(X_train, y_train_vect, y_train)\n",
    "t3 = a.avg_cost_func\n",
    "print(3)\n",
    "print(accuracy_score(a.predict(X_test), y_test)*100)\n",
    "print(accuracy_score(a.predict(X_train), y_train)*100)\n",
    "\n",
    "a = MyNeuroNet([64, 20, 10],alpha = 0.25, iter_num = 10000)\n",
    "a.train(X_train, y_train_vect, y_train)\n",
    "t4 = a.avg_cost_func\n",
    "print(3)\n",
    "print(accuracy_score(a.predict(X_test), y_test)*100)\n",
    "print(accuracy_score(a.predict(X_train), y_train)*100)\n",
    "\n",
    "a = MyNeuroNet([64, 15, 10],alpha = 0.25, iter_num = 10000)\n",
    "a.train(X_train, y_train_vect, y_train)\n",
    "t5 = a.avg_cost_func\n",
    "print(3)\n",
    "print(accuracy_score(a.predict(X_test), y_test)*100)\n",
    "print(accuracy_score(a.predict(X_train), y_train)*100)"
   ]
  },
  {
   "cell_type": "code",
   "execution_count": 78,
   "metadata": {},
   "outputs": [
    {
     "data": {
      "image/png": "[encoded data removed]",
      "text/plain": [
       "<Figure size 864x576 with 1 Axes>"
      ]
     },
     "metadata": {
      "needs_background": "light"
     },
     "output_type": "display_data"
    }
   ],
   "source": [
    "plt.figure(figsize=(12,8))\n",
    "plt.plot(t1, 'r')\n",
    "plt.plot(t2, 'g')\n",
    "plt.plot(t3, 'black')\n",
    "plt.plot(t4, 'pink')\n",
    "plt.plot(t5)\n",
    "plt.ylabel('Средняя J')\n",
    "plt.xlabel('Количество итераций')\n",
    "plt.show()"
   ]
  },
  {
   "cell_type": "code",
   "execution_count": 79,
   "metadata": {},
   "outputs": [
    {
     "name": "stdout",
     "output_type": "stream",
     "text": [
      "4\n",
      "7.5\n",
      "10.647181628392484\n"
     ]
    }
   ],
   "source": [
    "a = MyNeuroNet([64, 50, 20, 15, 10],alpha = 0.25, iter_num = 60000)\n",
    "a.train(X_train, y_train_vect, y_train)\n",
    "r1 = a.avg_cost_func\n",
    "print(4)\n",
    "print(accuracy_score(a.predict(X_test), y_test)*100)\n",
    "print(accuracy_score(a.predict(X_train), y_train)*100)"
   ]
  },
  {
   "cell_type": "code",
   "execution_count": 80,
   "metadata": {},
   "outputs": [
    {
     "data": {
      "image/png": "[encoded data removed]",
      "text/plain": [
       "<Figure size 864x576 with 1 Axes>"
      ]
     },
     "metadata": {
      "needs_background": "light"
     },
     "output_type": "display_data"
    }
   ],
   "source": [
    "plt.figure(figsize=(12,8))\n",
    "plt.plot(r1, 'r')\n",
    "plt.ylabel('Средняя J')\n",
    "plt.xlabel('Количество итераций')\n",
    "plt.show()"
   ]
  },
  {
   "cell_type": "code",
   "execution_count": null,
   "metadata": {},
   "outputs": [],
   "source": []
  }
 ],
 "metadata": {
  "celltoolbar": "Raw Cell Format",
  "kernelspec": {
   "display_name": "Python 3",
   "language": "python",
   "name": "python3"
  },
  "language_info": {
   "codemirror_mode": {
    "name": "ipython",
    "version": 3
   },
   "file_extension": ".py",
   "mimetype": "text/x-python",
   "name": "python",
   "nbconvert_exporter": "python",
   "pygments_lexer": "ipython3",
   "version": "3.7.4"
  }
 },
 "nbformat": 4,
 "nbformat_minor": 2
}
